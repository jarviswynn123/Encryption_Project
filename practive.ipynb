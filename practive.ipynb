{
 "cells": [
  {
   "cell_type": "code",
   "execution_count": 10,
   "metadata": {},
   "outputs": [
    {
     "name": "stdout",
     "output_type": "stream",
     "text": [
      "Reprehenderit rem pariatur omnis eaque repudiandae dolorum, officia quis aspernatur vel praesentium nostrum placeat ut quam iste? Autem ex molestiae, suscipit deleniti molestiae tempora, nobis ad tenetur repudiandae eos accusantium odit reprehenderit veniam consequatur eum quod. Voluptatibus voluptatum velit libero iusto aut dignissimos atque a sint aspernatur, distinctio omnis voluptates at sed maiores quas necessitatibus, omnis illum deserunt debitis cumque saepe natus ipsum obcaecati accusantium ab quibusdam\n",
      "\n",
      "['Reprehenderit rem pariatur omnis eaque repudiandae dolorum, officia quis aspernatur vel praesentium nostrum placeat ut quam iste? Autem ex molestiae, suscipit deleniti molestiae tempora, nobis ad tenetur repudiandae eos accusantium odit reprehenderit veniam consequatur eum quod. Voluptatibus voluptatum velit libero iusto aut dignissimos atque a sint aspernatur, distinctio omnis voluptates at sed maiores quas necessitatibus, omnis illum deserunt debitis cumque saepe natus ipsum obcaecati accusantium ab quibusdam\\n']\n"
     ]
    }
   ],
   "source": [
    "with open(\"./secret_message.txt\", \"r\") as myfile:\n",
    "    msg = myfile.read()\n",
    "    print(msg)\n",
    "\n",
    "with open(\"./secret_message.txt\", \"r\") as myfile:\n",
    "    msg1 = myfile.readlines()\n",
    "    print(msg1)\n"
   ]
  },
  {
   "cell_type": "code",
   "execution_count": 11,
   "metadata": {},
   "outputs": [],
   "source": [
    "with open(\"./fully_reversed.txt\", \"w\") as myfile:\n",
    "    myfile.write(msg[::-1])\n",
    "\n",
    "with open(\"./reversed_line_orders\", \"w\") as myfile:\n",
    "    myfile.writelines(msg1[::-1])\n"
   ]
  },
  {
   "cell_type": "code",
   "execution_count": 36,
   "metadata": {},
   "outputs": [
    {
     "name": "stdout",
     "output_type": "stream",
     "text": [
      "T\n"
     ]
    }
   ],
   "source": [
    "import string\n",
    "alphabet = list(string.ascii_uppercase)\n",
    "print(alphabet[19])\n"
   ]
  },
  {
   "cell_type": "code",
   "execution_count": 39,
   "metadata": {},
   "outputs": [
    {
     "name": "stdout",
     "output_type": "stream",
     "text": [
      "['A', 'B', 'C', 'A', 'B', 'C', 'D', 'E', 'F', 'G', 'H', 'I', 'J', 'K', 'L', 'M', 'N', 'O', 'P', 'Q', 'R', 'S', 'T', 'U', 'V', 'W', 'X', 'Y', 'Z']\n"
     ]
    }
   ],
   "source": [
    "# print(alphabet.index(\"C\"))\n",
    "# print(alphabet.index(\"A\"))\n",
    "# print(alphabet.index(\"T\"))\n",
    "key_items = [\"A\", \"B\", \"C\"]\n",
    "key_of_four = key_items + alphabet\n",
    "print(key_of_four)"
   ]
  },
  {
   "cell_type": "code",
   "execution_count": 45,
   "metadata": {},
   "outputs": [
    {
     "name": "stdout",
     "output_type": "stream",
     "text": [
      "CAT\n"
     ]
    },
    {
     "data": {
      "text/plain": [
       "''"
      ]
     },
     "execution_count": 45,
     "metadata": {},
     "output_type": "execute_result"
    }
   ],
   "source": [
    "secret_message = key_of_four[5] + key_of_four[3] + key_of_four[22]\n",
    "print(secret_message)\n",
    "\n",
    "\"If a key of more than 25 is chosen, all of the index items will be out of range\""
   ]
  }
 ],
 "metadata": {
  "kernelspec": {
   "display_name": "venv",
   "language": "python",
   "name": "python3"
  },
  "language_info": {
   "codemirror_mode": {
    "name": "ipython",
    "version": 3
   },
   "file_extension": ".py",
   "mimetype": "text/x-python",
   "name": "python",
   "nbconvert_exporter": "python",
   "pygments_lexer": "ipython3",
   "version": "3.10.12"
  }
 },
 "nbformat": 4,
 "nbformat_minor": 2
}
